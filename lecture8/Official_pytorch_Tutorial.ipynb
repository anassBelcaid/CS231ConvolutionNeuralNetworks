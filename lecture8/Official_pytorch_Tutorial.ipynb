{
 "cells": [
  {
   "cell_type": "markdown",
   "metadata": {},
   "source": [
    "# Py torch Tutorial\n",
    "\n",
    "## What is pytorch?\n",
    "\n",
    "It's a python-based **scientific** computing packages targeted a two sets of audience:\n",
    "\n",
    "* A  replacment for Numpy to use the power of the `GPU`\n",
    "* A deep learning research platform that provides maximum flexibility and speed.\n",
    "\n",
    "## Getting Started\n",
    "\n",
    "Tensors are in the heart of pytorch like the **ndarray** in numpy. Tensors can also be used in the GPU.\n"
   ]
  },
  {
   "cell_type": "code",
   "execution_count": 8,
   "metadata": {},
   "outputs": [],
   "source": [
    "from __future__ import print_function\n",
    "import torch"
   ]
  },
  {
   "cell_type": "code",
   "execution_count": 10,
   "metadata": {},
   "outputs": [
    {
     "name": "stdout",
     "output_type": "stream",
     "text": [
      "tensor([[2.2750e+26, 3.0796e-41, 0.0000e+00],\n",
      "        [0.0000e+00, 0.0000e+00, 1.7164e-05],\n",
      "        [0.0000e+00, 1.7164e-05, 0.0000e+00],\n",
      "        [7.4059e-06, 0.0000e+00, 0.0000e+00],\n",
      "        [0.0000e+00, 1.7164e-05, 0.0000e+00]])\n"
     ]
    }
   ],
   "source": [
    "# Construct and 5x 3 matrix\n",
    "x = torch.empty(5,3)\n",
    "print(x)"
   ]
  },
  {
   "cell_type": "code",
   "execution_count": 12,
   "metadata": {},
   "outputs": [
    {
     "name": "stdout",
     "output_type": "stream",
     "text": [
      "tensor([[0.9607, 0.0122, 0.4321],\n",
      "        [0.0097, 0.4940, 0.8953],\n",
      "        [0.6446, 0.5411, 0.4357],\n",
      "        [0.9678, 0.5219, 0.5371],\n",
      "        [0.5017, 0.0503, 0.6837]])\n"
     ]
    }
   ],
   "source": [
    "#Construct a random matrix\n",
    "x = torch.rand(5,3)\n",
    "print(x)"
   ]
  },
  {
   "cell_type": "code",
   "execution_count": 14,
   "metadata": {},
   "outputs": [
    {
     "name": "stdout",
     "output_type": "stream",
     "text": [
      "tensor([[0, 0, 0],\n",
      "        [0, 0, 0],\n",
      "        [0, 0, 0],\n",
      "        [0, 0, 0],\n",
      "        [0, 0, 0]])\n"
     ]
    }
   ],
   "source": [
    "#construct amatrix filled with zeors of type long\n",
    "x = torch.zeros(5,3,dtype=torch.long)\n",
    "print(x)"
   ]
  },
  {
   "cell_type": "code",
   "execution_count": 15,
   "metadata": {},
   "outputs": [
    {
     "name": "stdout",
     "output_type": "stream",
     "text": [
      "tensor([5.5000, 3.0000])\n"
     ]
    }
   ],
   "source": [
    "#initialize from data\n",
    "x = torch.tensor([5.5,3])\n",
    "print(x)"
   ]
  },
  {
   "cell_type": "code",
   "execution_count": 18,
   "metadata": {},
   "outputs": [
    {
     "name": "stdout",
     "output_type": "stream",
     "text": [
      "tensor([[1., 1., 1.],\n",
      "        [1., 1., 1.],\n",
      "        [1., 1., 1.],\n",
      "        [1., 1., 1.],\n",
      "        [1., 1., 1.]], dtype=torch.float64)\n",
      "tensor([[ 0.0940,  0.3665, -0.4481],\n",
      "        [-0.2752,  0.1669,  0.4600],\n",
      "        [-1.9144, -0.6962, -0.8230],\n",
      "        [-1.8832, -0.5697, -2.3187],\n",
      "        [ 0.9277, -0.1795, -0.9396]])\n"
     ]
    }
   ],
   "source": [
    "#We can also create a tensor from an existing one\n",
    "x = x.new_ones(5,3,dtype=torch.double)\n",
    "print(x)\n",
    "\n",
    "x = torch.randn_like(x, dtype= torch.float)\n",
    "print(x)"
   ]
  },
  {
   "cell_type": "code",
   "execution_count": 22,
   "metadata": {},
   "outputs": [
    {
     "name": "stdout",
     "output_type": "stream",
     "text": [
      "torch.Size([5, 3])\n"
     ]
    }
   ],
   "source": [
    "#getting the size,  This is a tuple\n",
    "print(x.size())"
   ]
  },
  {
   "cell_type": "code",
   "execution_count": 23,
   "metadata": {},
   "outputs": [
    {
     "name": "stdout",
     "output_type": "stream",
     "text": [
      "tensor([[ 0.9784,  1.2256, -0.3726],\n",
      "        [-0.1268,  1.1657,  0.5161],\n",
      "        [-1.8678, -0.1241, -0.6553],\n",
      "        [-1.4991, -0.0100, -1.8484],\n",
      "        [ 1.1939,  0.0291, -0.2386]])\n"
     ]
    }
   ],
   "source": [
    "## Operations\n",
    "y = torch.rand(5,3)\n",
    "print(x+y)"
   ]
  },
  {
   "cell_type": "code",
   "execution_count": 26,
   "metadata": {},
   "outputs": [
    {
     "name": "stdout",
     "output_type": "stream",
     "text": [
      "tensor([[ 0.9784,  1.2256, -0.3726],\n",
      "        [-0.1268,  1.1657,  0.5161],\n",
      "        [-1.8678, -0.1241, -0.6553],\n",
      "        [-1.4991, -0.0100, -1.8484],\n",
      "        [ 1.1939,  0.0291, -0.2386]])\n",
      "tensor([[ 0.9784,  1.2256, -0.3726],\n",
      "        [-0.1268,  1.1657,  0.5161],\n",
      "        [-1.8678, -0.1241, -0.6553],\n",
      "        [-1.4991, -0.0100, -1.8484],\n",
      "        [ 1.1939,  0.0291, -0.2386]])\n"
     ]
    }
   ],
   "source": [
    "#or with a function\n",
    "print(x.add(y))\n",
    "\n",
    "# take result in another tensor\n",
    "result = torch.empty(5,3)\n",
    "torch.add(x,y,out=result)\n",
    "print(result)"
   ]
  },
  {
   "cell_type": "code",
   "execution_count": 27,
   "metadata": {},
   "outputs": [
    {
     "name": "stdout",
     "output_type": "stream",
     "text": [
      "tensor([[ 0.9784,  1.2256, -0.3726],\n",
      "        [-0.1268,  1.1657,  0.5161],\n",
      "        [-1.8678, -0.1241, -0.6553],\n",
      "        [-1.4991, -0.0100, -1.8484],\n",
      "        [ 1.1939,  0.0291, -0.2386]])\n"
     ]
    }
   ],
   "source": [
    "# third possibility is an addition in place\n",
    "y.add_(x)\n",
    "print(y)"
   ]
  },
  {
   "cell_type": "markdown",
   "metadata": {},
   "source": [
    ">All operation ending with _ are modifier **inplace**"
   ]
  },
  {
   "cell_type": "code",
   "execution_count": 28,
   "metadata": {},
   "outputs": [
    {
     "name": "stdout",
     "output_type": "stream",
     "text": [
      "tensor([ 0.3665,  0.1669, -0.6962, -0.5697, -0.1795])\n"
     ]
    }
   ],
   "source": [
    "#we can use numpy indexing\n",
    "print(x[:,1])"
   ]
  },
  {
   "cell_type": "code",
   "execution_count": 31,
   "metadata": {},
   "outputs": [
    {
     "name": "stdout",
     "output_type": "stream",
     "text": [
      "torch.Size([4, 4]) torch.Size([16]) torch.Size([2, 8])\n"
     ]
    }
   ],
   "source": [
    "# If we want to resize a tensor we could use the  method view\n",
    "x = torch.randn(4,4)\n",
    "y = x.view(16)\n",
    "z = x.view(-1,8) #the size -1is inferred from other dimensions\n",
    "print(x.size(),y.size(),z.size())"
   ]
  },
  {
   "cell_type": "code",
   "execution_count": 32,
   "metadata": {},
   "outputs": [
    {
     "name": "stdout",
     "output_type": "stream",
     "text": [
      "0.1101536899805069\n"
     ]
    }
   ],
   "source": [
    "# if we have a one element we could use item\n",
    "x  = torch.randn(1)\n",
    "print(x.item())"
   ]
  },
  {
   "cell_type": "markdown",
   "metadata": {},
   "source": [
    "Read later:\n",
    "*  [Tensor Operations](https://pytorch.org/docs/stable/torch.html)\n",
    "\n",
    "## Numpy Bridge\n",
    "Converting a Torch tensor to a numpy and vice versa is a breeze."
   ]
  },
  {
   "cell_type": "code",
   "execution_count": 34,
   "metadata": {},
   "outputs": [
    {
     "name": "stdout",
     "output_type": "stream",
     "text": [
      "tensor([1., 1., 1., 1., 1.])\n",
      "[1. 1. 1. 1. 1.]\n"
     ]
    }
   ],
   "source": [
    "#torch tensor\n",
    "a = torch.ones(5)\n",
    "print(a)\n",
    "\n",
    "#converting to numpy\n",
    "b =  a.numpy()\n",
    "print(b)"
   ]
  },
  {
   "cell_type": "code",
   "execution_count": 35,
   "metadata": {},
   "outputs": [
    {
     "name": "stdout",
     "output_type": "stream",
     "text": [
      "tensor([2., 2., 2., 2., 2.])\n",
      "[2. 2. 2. 2. 2.]\n"
     ]
    }
   ],
   "source": [
    "a.add_(1)\n",
    "print(a)\n",
    "print(b)   # b also change as it's justa view"
   ]
  },
  {
   "cell_type": "markdown",
   "metadata": {},
   "source": [
    "### Converting Numpy Array to torch  Tensor"
   ]
  },
  {
   "cell_type": "code",
   "execution_count": 37,
   "metadata": {},
   "outputs": [
    {
     "name": "stdout",
     "output_type": "stream",
     "text": [
      "[2. 2. 2. 2. 2.]\n",
      "tensor([2., 2., 2., 2., 2.], dtype=torch.float64)\n"
     ]
    }
   ],
   "source": [
    "import numpy as np\n",
    "a = np.ones(5)\n",
    "b = torch.from_numpy(a)\n",
    "np.add(a,1,out=a)\n",
    "print(a)\n",
    "print(b)  # automatically changes also"
   ]
  },
  {
   "cell_type": "markdown",
   "metadata": {},
   "source": [
    "## Cuda Tensors\n",
    "Tensors can be moved onto any device using the `.to` method:"
   ]
  },
  {
   "cell_type": "code",
   "execution_count": 41,
   "metadata": {},
   "outputs": [
    {
     "name": "stdout",
     "output_type": "stream",
     "text": [
      "tensor([1.1102], device='cuda:0')\n",
      "tensor([1.1102], dtype=torch.float64)\n"
     ]
    }
   ],
   "source": [
    "# let us run this cellin cuda if its available\n",
    "if torch.cuda.is_available():\n",
    "    device = torch.device('cuda')  #cuda device\n",
    "    y = torch.ones_like(x,device=device) #creatte on the device\n",
    "    x = x.to(device)  # send to the device\n",
    "    z = x + y\n",
    "    print(z)\n",
    "    print(z.to(\"cpu\",torch.double))"
   ]
  },
  {
   "cell_type": "markdown",
   "metadata": {},
   "source": [
    "## AutoGrad: Automatic Differentiation\n",
    "Central to all neural networks in **Pytorch** is the `autograd` package. We'll visit this module and then go train a network.\n",
    "\n",
    "the `autograd` package provide automatic differentiation for all operationson Tensors.\n",
    "\n",
    "The `torch.Tensor` is the central intrest of the package. if you set its attribute is `.requires_grad`. If it's set to **True**. pytorch tracks all the operations to compute the **backpropagtion** graph and compute its gradient.\n",
    "\n",
    "To stop a tensor from tracking the computation graph,we us the method `.detach()`\n",
    "\n",
    "To prevent trakcing history (and using memory),  you can wrap the code block in `with toch.no_grad():` \n",
    "\n",
    "There is one more class which is very iportant for autograd `Function`"
   ]
  },
  {
   "cell_type": "code",
   "execution_count": 42,
   "metadata": {},
   "outputs": [
    {
     "name": "stdout",
     "output_type": "stream",
     "text": [
      "tensor([[1., 1.],\n",
      "        [1., 1.]], requires_grad=True)\n"
     ]
    }
   ],
   "source": [
    "#create a torch and set require_grad to true\n",
    "x = torch.ones(2,2, requires_grad=True)\n",
    "print(x)"
   ]
  },
  {
   "cell_type": "code",
   "execution_count": 44,
   "metadata": {},
   "outputs": [
    {
     "name": "stdout",
     "output_type": "stream",
     "text": [
      "tensor([[3., 3.],\n",
      "        [3., 3.]], grad_fn=<AddBackward>)\n"
     ]
    }
   ],
   "source": [
    "# Do an operation\n",
    "y = x+2\n",
    "print(y)"
   ]
  },
  {
   "cell_type": "code",
   "execution_count": 46,
   "metadata": {},
   "outputs": [
    {
     "name": "stdout",
     "output_type": "stream",
     "text": [
      "<AddBackward object at 0x7feb90595dd8>\n"
     ]
    }
   ],
   "source": [
    "#Function responsable for the backpropagation\n",
    "print(y.grad_fn)"
   ]
  },
  {
   "cell_type": "code",
   "execution_count": 47,
   "metadata": {},
   "outputs": [
    {
     "name": "stdout",
     "output_type": "stream",
     "text": [
      "tensor([[27., 27.],\n",
      "        [27., 27.]], grad_fn=<MulBackward>) tensor(27., grad_fn=<MeanBackward1>)\n"
     ]
    }
   ],
   "source": [
    "# do more operations\n",
    "z = y *y   *3\n",
    "out =   z.mean()\n",
    "print(z,out)"
   ]
  },
  {
   "cell_type": "markdown",
   "metadata": {},
   "source": [
    "## Gradients\n",
    "Let's backprop new `out` contains a single scalar, is equivalent to `out.backward(torch.tensor(1))`"
   ]
  },
  {
   "cell_type": "code",
   "execution_count": 48,
   "metadata": {},
   "outputs": [
    {
     "name": "stdout",
     "output_type": "stream",
     "text": [
      "tensor([[4.5000, 4.5000],\n",
      "        [4.5000, 4.5000]])\n"
     ]
    }
   ],
   "source": [
    "out.backward()\n",
    "\n",
    "#print the gradient (dout/dx)\n",
    "print(x.grad)"
   ]
  },
  {
   "cell_type": "markdown",
   "metadata": {},
   "source": [
    "**Read Later**:\n",
    "Documentation of the `autograd` and `Function` is in [autograd](https://pytorch.org/docs/stable/autograd.html)"
   ]
  },
  {
   "cell_type": "markdown",
   "metadata": {},
   "source": [
    "------\n",
    "## Neural Networks\n",
    "The centrail module for creating neural network is `pytorch.nn`.\n",
    "\n",
    "A typical training procedure  for a neural network is as follow:\n",
    "* Define the neural network that has some learnable paramester (or weights)\n",
    "* Iterate over a dataset of  inputs.\n",
    "* Compute the loss (how faris the output from being correct)\n",
    "* Propagate gradient back into the network's parameters\n",
    "* Update the weights of the network,typically using a simple update rule like `SGD`.\n",
    "\n",
    "### Define the network"
   ]
  },
  {
   "cell_type": "code",
   "execution_count": 94,
   "metadata": {},
   "outputs": [],
   "source": [
    "import torch.nn as nn\n",
    "import torch.nn.functional as F\n",
    "\n",
    "class Net(nn.Module):\n",
    "    # conv_relu_pool, conv2_relu_pool, FC-relu, FC_relu\n",
    "    def __init__(self):\n",
    "        super(Net,self).__init__()\n",
    "        # one input , 6 filter, size 5\n",
    "        self.conv1 = nn.Conv2d(3,6,5)\n",
    "        self.conv2 = nn.Conv2d(6,16,5)\n",
    "        #afffine oeration\n",
    "        self.fc1 = nn.Linear(16*5*5,120)\n",
    "        self.fc2 = nn.Linear(120,84)\n",
    "        self.fc3 = nn.Linear(84,10)\n",
    "    \n",
    "    def forward(self, x):\n",
    "        # first conv_relu_pool\n",
    "        x = F.max_pool2d(F.relu(self.conv1(x)),(2,2))\n",
    "        \n",
    "        #second layey, size is a square only one number\n",
    "        x = F.max_pool2d(F.relu(self.conv2(x)),2)\n",
    "        \n",
    "        #affine layers\n",
    "        x=x.view(-1,self.num_flat_features(x))\n",
    "        x = F.relu(self.fc1(x))\n",
    "        x = F.relu(self.fc2(x))\n",
    "        x = self.fc3(x)\n",
    "        return x\n",
    "    \n",
    "    def num_flat_features(self,x):\n",
    "        size = x.size()[1:] #all dimensions exceptthe batch dimension\n",
    "        num_features = 1\n",
    "        for s in size:\n",
    "            num_features *=s\n",
    "        return num_features\n",
    "    "
   ]
  },
  {
   "cell_type": "code",
   "execution_count": 96,
   "metadata": {},
   "outputs": [
    {
     "name": "stdout",
     "output_type": "stream",
     "text": [
      "Net(\n",
      "  (conv1): Conv2d(3, 6, kernel_size=(5, 5), stride=(1, 1))\n",
      "  (conv2): Conv2d(6, 16, kernel_size=(5, 5), stride=(1, 1))\n",
      "  (fc1): Linear(in_features=400, out_features=120, bias=True)\n",
      "  (fc2): Linear(in_features=120, out_features=84, bias=True)\n",
      "  (fc3): Linear(in_features=84, out_features=10, bias=True)\n",
      ")\n"
     ]
    }
   ],
   "source": [
    "#creating the net \n",
    "net = Net()\n",
    "print(net)"
   ]
  },
  {
   "cell_type": "markdown",
   "metadata": {},
   "source": [
    "The beaty of this definition is  that the **Backward** function is defined for us. The learnable parameters are obtained by `net.parameters()`"
   ]
  },
  {
   "cell_type": "code",
   "execution_count": 60,
   "metadata": {},
   "outputs": [
    {
     "name": "stdout",
     "output_type": "stream",
     "text": [
      "10\n",
      "torch.Size([6, 1, 5, 5])\n"
     ]
    }
   ],
   "source": [
    "params = list(net.parameters())\n",
    "print(len(params))\n",
    "print(params[0].size())# size of the firt convolutional"
   ]
  },
  {
   "cell_type": "code",
   "execution_count": 61,
   "metadata": {},
   "outputs": [
    {
     "name": "stdout",
     "output_type": "stream",
     "text": [
      "tensor([[ 0.0652,  0.0517, -0.0527,  0.1029,  0.0417, -0.1018, -0.0046, -0.0838,\n",
      "          0.0723,  0.0680]], grad_fn=<ThAddmmBackward>)\n"
     ]
    }
   ],
   "source": [
    "# Let trysa random 32x32.\n",
    "\n",
    "input = torch.randn(1,1,32,32)\n",
    "out = net(input)\n",
    "print(out)"
   ]
  },
  {
   "cell_type": "code",
   "execution_count": 62,
   "metadata": {},
   "outputs": [],
   "source": [
    "# make allthe gradient zero and backpropagate\n",
    "net.zero_grad()\n",
    "out.backward(torch.randn(1,10))"
   ]
  },
  {
   "cell_type": "markdown",
   "metadata": {},
   "source": [
    "## Loss Function"
   ]
  },
  {
   "cell_type": "code",
   "execution_count": 65,
   "metadata": {},
   "outputs": [
    {
     "name": "stdout",
     "output_type": "stream",
     "text": [
      "tensor(0.4191, grad_fn=<MseLossBackward>)\n"
     ]
    }
   ],
   "source": [
    "output = net(input)\n",
    "target = torch.randn(10) # a dummy target \n",
    "target =  target.view(1,-1) # make it the same shape as output\n",
    "criterion = nn.MSELoss()\n",
    "loss = criterion(output,target)\n",
    "print(loss)"
   ]
  },
  {
   "cell_type": "markdown",
   "metadata": {},
   "source": [
    "### Backprop\n",
    "We could backpropagate with `loss.backward` but we need to free all the gradient otherwise gradient will be accumulated."
   ]
  },
  {
   "cell_type": "code",
   "execution_count": 67,
   "metadata": {},
   "outputs": [
    {
     "name": "stdout",
     "output_type": "stream",
     "text": [
      "conv1.bias.grad before bakward:\n",
      "tensor([0., 0., 0., 0., 0., 0.])\n",
      "conv1.bias.grad before bakward:\n",
      "tensor([-0.0026, -0.0002,  0.0074, -0.0094, -0.0072,  0.0018])\n"
     ]
    }
   ],
   "source": [
    "net.zero_grad()  #zeros the gradient buffes of the all the parameters\n",
    "print('conv1.bias.grad before bakward:')\n",
    "print(net.conv1.bias.grad)\n",
    "\n",
    "#backprobagate\n",
    "loss.backward()\n",
    "\n",
    "print('conv1.bias.grad before bakward:')\n",
    "print(net.conv1.bias.grad)\n"
   ]
  },
  {
   "cell_type": "markdown",
   "metadata": {},
   "source": [
    "**Read Later**:\n",
    "Building blocks of deep neural network. [documentation](https://pytorch.org/docs/stable/nn.html)\n",
    "\n",
    "#### Update the weights\n",
    "\n",
    "$$W - = learning_rate*gradient $$"
   ]
  },
  {
   "cell_type": "code",
   "execution_count": 68,
   "metadata": {},
   "outputs": [],
   "source": [
    "learning_rate = 0.01\n",
    "for f in net.parameters():\n",
    "    f.data.sub_(learning_rate*f.grad)"
   ]
  },
  {
   "cell_type": "markdown",
   "metadata": {},
   "source": [
    "Hower we want to use diffent update strategies like **SGD**, **Momentum** and **ADAM**."
   ]
  },
  {
   "cell_type": "code",
   "execution_count": 71,
   "metadata": {},
   "outputs": [],
   "source": [
    "import torch.optim as optim\n",
    "\n",
    "#create your optimizer\n",
    "optimizer = optim.SGD(net.parameters(),lr=0.01)\n",
    "\n",
    "optimizer.zero_grad()\n",
    "output = net(input)\n",
    "loss = criterion(output,target)\n",
    "loss.backward()\n",
    "optimizer.step()  # does the  update"
   ]
  },
  {
   "cell_type": "markdown",
   "metadata": {},
   "source": [
    "----\n",
    "\n",
    "## Training a Classifier"
   ]
  },
  {
   "cell_type": "markdown",
   "metadata": {},
   "source": [
    "Datasets for `Vision` are stored in the **torchvision**. But we must use the `trohvision.datasets` and `torch.utils.data.DataLoader`\n",
    "\n",
    "** Training an Image Classifier**\n",
    "\n",
    "1. Load and normalizing the **CIFAR10** trainsing ad test dataset using *torchvision*.\n",
    "2. Define a Convolutional Neural Network.\n",
    "3. Define the loss function.\n",
    "4. Train the network on the training data\n",
    "5. Test the network on the test data"
   ]
  },
  {
   "cell_type": "markdown",
   "metadata": {},
   "source": [
    "#### Loading the data and normalizing"
   ]
  },
  {
   "cell_type": "code",
   "execution_count": 72,
   "metadata": {},
   "outputs": [],
   "source": [
    "import torchvision\n",
    "import torchvision.transforms as transforms"
   ]
  },
  {
   "cell_type": "markdown",
   "metadata": {},
   "source": [
    "The output of torchvision dataset are PILimage of range $[0,1]$. We transofmr them to Tensors of normalized range $[-1,1]$."
   ]
  },
  {
   "cell_type": "code",
   "execution_count": 84,
   "metadata": {},
   "outputs": [],
   "source": [
    "transform = transforms.Compose(\n",
    "    [transforms.ToTensor(),\n",
    "     transforms.Normalize((0.5,0.5,0.5),(0.5,0.5,0.5))])\n",
    "\n",
    "#loading the trainset\n",
    "trainset = torchvision.datasets.CIFAR10(root ='./data',\n",
    "                                       train = True,\n",
    "                                       download = False,\n",
    "                                       transform=transform)\n",
    "\n",
    "#train loader\n",
    "trainloader = torch.utils.data.DataLoader(trainset,batch_size=200,\n",
    "                                          shuffle=True,num_workers=2)\n",
    "\n",
    "#testset \n",
    "testset = torchvision.datasets.CIFAR10(root='./data', train=False,\n",
    "                                      transform=transform)\n",
    "testloader = torch.utils.data.DataLoader(testset, batch_size=200,\n",
    "                                        shuffle=False,num_workers=2)"
   ]
  },
  {
   "cell_type": "code",
   "execution_count": 90,
   "metadata": {},
   "outputs": [
    {
     "name": "stdout",
     "output_type": "stream",
     "text": [
      " frog deerhorse  dog\n"
     ]
    },
    {
     "data": {
      "image/png": "[encoded data removed]",
      "text/plain": [
       "<Figure size 432x288 with 1 Axes>"
      ]
     },
     "metadata": {
      "needs_background": "light"
     },
     "output_type": "display_data"
    }
   ],
   "source": [
    "# Let us show some of the training images, for fun\n",
    "\n",
    "import matplotlib.pyplot as plt\n",
    "import numpy as np\n",
    "classes = ('plane', 'car', 'bird', 'cat','deer', 'dog', 'frog', 'horse', 'ship', 'truck')\n",
    "def imshow(img):\n",
    "    img  = img/2+0.5  #unormalized\n",
    "    npimg = img.numpy()\n",
    "    plt.imshow(np.transpose(npimg,(1,2,0)))\n",
    "\n",
    "#get some random training images\n",
    "dataiter = iter(trainloader)\n",
    "images, labels = dataiter.next()\n",
    "\n",
    "#sho images\n",
    "imshow(torchvision.utils.make_grid(images))\n",
    "#print labels\n",
    "print(''.join('%5s'% classes[labels[j]] for j in range(4)))"
   ]
  },
  {
   "cell_type": "markdown",
   "metadata": {},
   "source": [
    "### Define  a Convolutional Neural Network\n",
    "We'll use the convolutional neural network `net`."
   ]
  },
  {
   "cell_type": "code",
   "execution_count": 91,
   "metadata": {},
   "outputs": [],
   "source": [
    "criterion = nn.CrossEntropyLoss()\n",
    "optimizer = optim.SGD(net.parameters(),lr=0.001,momentum=0.9)"
   ]
  },
  {
   "cell_type": "markdown",
   "metadata": {},
   "source": [
    "### Train the network\n",
    "\n",
    "The advantage of using a dataset is the simplifictin of the looop.\n"
   ]
  },
  {
   "cell_type": "code",
   "execution_count": 98,
   "metadata": {},
   "outputs": [
    {
     "name": "stdout",
     "output_type": "stream",
     "text": [
      "Finished Training\n"
     ]
    }
   ],
   "source": [
    "\n",
    "for epoch in range(2): #loop over the dataset number of epoch\n",
    "    \n",
    "    running_loss = 0.0\n",
    "    for i, data in enumerate(trainloader,0):\n",
    "        #get the inputs\n",
    "        inputs, labels =  data\n",
    "        \n",
    "        #zero the parameter\n",
    "        optimizer.zero_grad()\n",
    "        \n",
    "        #forward + backward + optimize\n",
    "        output = net(inputs)\n",
    "        loss = criterion(output,labels)\n",
    "        loss.backward()\n",
    "        optimizer.step()\n",
    "        \n",
    "        #print statistics\n",
    "        running_loss += loss.item()\n",
    "        if i % 2000 ==1999:  #print every2000 mini-batches\n",
    "            print(\"[%d, %5d] loss: %.3f\"%\n",
    "                 (epoch+1, i+1,running_loss/2000))\n",
    "            running_loss=0.0\n",
    "print('Finished Training')"
   ]
  },
  {
   "cell_type": "markdown",
   "metadata": {},
   "source": [
    "### Test the network on the test data"
   ]
  },
  {
   "cell_type": "code",
   "execution_count": 101,
   "metadata": {},
   "outputs": [
    {
     "name": "stdout",
     "output_type": "stream",
     "text": [
      "GroundTruth:    cat  ship  ship plane\n"
     ]
    },
    {
     "data": {
      "image/png": "[encoded data removed]",
      "text/plain": [
       "<Figure size 432x288 with 1 Axes>"
      ]
     },
     "metadata": {
      "needs_background": "light"
     },
     "output_type": "display_data"
    }
   ],
   "source": [
    "dataiter = iter(testloader)\n",
    "images, labels  = dataiter.next()\n",
    "imshow(torchvision.utils.make_grid(images))\n",
    "print('GroundTruth: ', ' '.join('%5s' % classes[labels[j]] for j in range(4)))\n"
   ]
  },
  {
   "cell_type": "code",
   "execution_count": 105,
   "metadata": {},
   "outputs": [
    {
     "name": "stdout",
     "output_type": "stream",
     "text": [
      "Predicted:  truck truck truck truck\n"
     ]
    }
   ],
   "source": [
    "outputs = net(images) #computed the predicted\n",
    "\n",
    "_, predicted= torch.max(output,1)\n",
    "print('Predicted: ', ' '.join('%5s' % classes[predicted[j]]\n",
    "                              for j in range(4)))\n"
   ]
  },
  {
   "cell_type": "code",
   "execution_count": 106,
   "metadata": {},
   "outputs": [
    {
     "name": "stdout",
     "output_type": "stream",
     "text": [
      "Accuracy of the network on the 10000 test images: 11 %\n"
     ]
    }
   ],
   "source": [
    "correct = 0\n",
    "total = 0\n",
    "with torch.no_grad():\n",
    "    for data in testloader:\n",
    "        images, labels = data\n",
    "        outputs = net(images)\n",
    "        _, predicted = torch.max(outputs.data, 1)\n",
    "        total += labels.size(0)\n",
    "        correct += (predicted == labels).sum().item()\n",
    "\n",
    "print('Accuracy of the network on the 10000 test images: %d %%' % (\n",
    "    100 * correct / total))"
   ]
  },
  {
   "cell_type": "markdown",
   "metadata": {},
   "source": [
    "## Training on GPU"
   ]
  },
  {
   "cell_type": "code",
   "execution_count": 107,
   "metadata": {},
   "outputs": [
    {
     "data": {
      "text/plain": [
       "Net(\n",
       "  (conv1): Conv2d(3, 6, kernel_size=(5, 5), stride=(1, 1))\n",
       "  (conv2): Conv2d(6, 16, kernel_size=(5, 5), stride=(1, 1))\n",
       "  (fc1): Linear(in_features=400, out_features=120, bias=True)\n",
       "  (fc2): Linear(in_features=120, out_features=84, bias=True)\n",
       "  (fc3): Linear(in_features=84, out_features=10, bias=True)\n",
       ")"
      ]
     },
     "execution_count": 107,
     "metadata": {},
     "output_type": "execute_result"
    }
   ],
   "source": [
    "device = torch.device(\"cuda:0\")\n",
    "net.to(device)"
   ]
  },
  {
   "cell_type": "code",
   "execution_count": 108,
   "metadata": {},
   "outputs": [],
   "source": [
    "# data te device\n",
    "inputs, labels = inputs.to(device), labels.to(device)"
   ]
  },
  {
   "cell_type": "code",
   "execution_count": null,
   "metadata": {},
   "outputs": [],
   "source": []
  }
 ],
 "metadata": {
  "kernelspec": {
   "display_name": "Python 3",
   "language": "python",
   "name": "python3"
  },
  "language_info": {
   "codemirror_mode": {
    "name": "ipython",
    "version": 3
   },
   "file_extension": ".py",
   "mimetype": "text/x-python",
   "name": "python",
   "nbconvert_exporter": "python",
   "pygments_lexer": "ipython3",
   "version": "3.6.6"
  }
 },
 "nbformat": 4,
 "nbformat_minor": 2
}
